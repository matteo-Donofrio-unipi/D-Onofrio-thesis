{
 "cells": [
  {
   "cell_type": "code",
   "execution_count": 2,
   "metadata": {},
   "outputs": [],
   "source": [
    "import pandas as pd\n",
    "import numpy as np\n",
    "from matrixprofile import *\n",
    "from matrixprofile.discords import discords\n",
    "from matplotlib import pyplot as plt\n",
    "import random\n",
    "from scipy.io import arff"
   ]
  },
  {
   "cell_type": "code",
   "execution_count": 3,
   "metadata": {},
   "outputs": [],
   "source": [
    "def plot_motifs(mtfs, labels, ax, data, window_size):\n",
    "    #data can be raw data or MP\n",
    "    colori = 0\n",
    "    colors = 'rmb'\n",
    "    for ms,l in zip(mtfs,labels):\n",
    "        c =colors[colori % len(colors)]\n",
    "        starts = list(ms)\n",
    "        ends = [min(s + window_size,len(data)-1) for s in starts]\n",
    "        ax.plot(starts, data[starts],  c +'o',  label=l+'(Motif)')\n",
    "        ax.plot(ends, data[ends],  c +'o', markerfacecolor='none')\n",
    "        for nn in ms:\n",
    "            ax.plot(range(nn,nn+window_size),data[nn:nn+window_size], c , linewidth=2)\n",
    "        colori += 1\n",
    "\n",
    "    #ax.plot(a,'green', linewidth=1, label=\"data\") COMMENTATO PERCHE PLOTTO I DATI INDIPENDENTEMENTE\n",
    "    ax.legend()"
   ]
  },
  {
   "cell_type": "code",
   "execution_count": 4,
   "metadata": {},
   "outputs": [],
   "source": [
    "def plot_discords(dis,ax,data,window_size):\n",
    "    #data can be raw data or Mp\n",
    "    color = 'k'\n",
    "    for start in dis:\n",
    "        end=start+window_size\n",
    "        ax.plot(start, data[start],  color ,label='Discord')\n",
    "        ax.plot(end, data[end],  color , markerfacecolor='none')\n",
    "        \n",
    "        ax.plot(range(start,start+window_size),data[start:start+window_size], color , linewidth=2)\n",
    "        \n",
    "    ax.legend(loc=1, prop={'size':12})    "
   ]
  },
  {
   "cell_type": "code",
   "execution_count": 5,
   "metadata": {},
   "outputs": [],
   "source": [
    "def plot_all(Ts, mp, mot, motif_dist, dis, window_size):\n",
    "    #genera e compara TS con MP, motifs e discords ottenuti \n",
    "    \n",
    "    \n",
    "    #Append np.nan to Matrix profile to enable plotting against raw data (FILL DI 0 ALLA FINE PER RENDERE LE LUNGHEZZE UGUALI )\n",
    "    mp_adj = np.append(mp,np.zeros(window_size-1)+np.nan)\n",
    "\n",
    "    #MODO 2 PER PLOTTARE (O-ORIENTED)\n",
    "    #Plot dei dati\n",
    "    fig, (ax1, ax2) = plt.subplots(2,1,sharex=True,figsize=(20,15))\n",
    "    ax1.plot(np.arange(len(Ts)),Ts, label=\"Ts\", color='g') #stampo linespace su x e valori data su y (USATO SE NON STAMPO MOTIF/DIS)\n",
    "    ax1.set_ylabel('Ts', size=22)\n",
    "    plot_motifs(mot, [f\"{md:.3f}\" for md in motif_dist], ax1, Ts, window_size) #sk\n",
    "    plot_discords(dis, ax1, Ts, window_size)\n",
    "\n",
    "    \n",
    "    \n",
    "    #Plot della Matrix Profile\n",
    "    ax2.plot(np.arange(len(mp_adj)),mp_adj,label=\"Matrix Profile\", color='green')\n",
    "    ax2.set_ylabel('Matrix Profile', size=22)\n",
    "    plot_motifs(mot, [f\"{md:.3f}\" for md in motif_dist], ax2, mp_adj, window_size)\n",
    "    plot_discords(dis, ax2, mp_adj, window_size)\n",
    "\n",
    "    plt.show()"
   ]
  },
  {
   "cell_type": "code",
   "execution_count": 15,
   "metadata": {},
   "outputs": [],
   "source": [
    "def retrieve_all(Ts): #fornita la Ts calcola e restituisce mp, motifs, motifs_distances e discords\n",
    "    Ts=Ts[0:127] #rimuovo l'attributo \"classe\"\n",
    "\n",
    "    dfMP = pd.DataFrame(Ts).astype(float) # genero Dframe per lavorarci su, DA CAPIRE PERCHE SERVE FLOAT\n",
    "    mp, mpi = matrixProfile.stomp(dfMP[0].values,window_size) #OK STOMP\n",
    "\n",
    "    #PREPARO TUPLA DA PASSARE ALLA FUN MOTIF (RICHIEDE TUPLA FATTA DA MP E MPI)\n",
    "    tupla=mp,mpi\n",
    "\n",
    "    mot, motif_dist  =motifs.motifs(dfMP[0].values,tupla,2)\n",
    "\n",
    "    #CALCOLO MOTIFS\n",
    "    print('Motifs starting position: '+str(mot)+ ' Motifs values (min distances): '+str(motif_dist))\n",
    "\n",
    "    #CALCOLO DISCORDS\n",
    "    dis= discords(mp,window_size,2)\n",
    "    print('Discords starting position: '+str(dis))\n",
    "    \n",
    "    tupla=mp,mot,motif_dist,dis\n",
    "    return tupla\n",
    "    "
   ]
  },
  {
   "cell_type": "code",
   "execution_count": 16,
   "metadata": {},
   "outputs": [
    {
     "name": "stdout",
     "output_type": "stream",
     "text": [
      "<class 'pandas.core.frame.DataFrame'>\n",
      "RangeIndex: 30 entries, 0 to 29\n",
      "Columns: 129 entries, att1 to target\n",
      "dtypes: float64(128), object(1)\n",
      "memory usage: 30.4+ KB\n"
     ]
    },
    {
     "data": {
      "text/plain": [
       "(30, 129)"
      ]
     },
     "execution_count": 16,
     "metadata": {},
     "output_type": "execute_result"
    }
   ],
   "source": [
    "dataset = arff.loadarff('CBF/CBF_TRAIN.arff')\n",
    "df = pd.DataFrame(dataset[0]) #30 record su matrice da 128 attributi + 'b': classe appartenenza  \n",
    "df.describe()\n",
    "df.info()\n",
    "df.shape\n",
    "#print(df)"
   ]
  },
  {
   "cell_type": "code",
   "execution_count": 1,
   "metadata": {},
   "outputs": [
    {
     "ename": "NameError",
     "evalue": "name 'pd' is not defined",
     "output_type": "error",
     "traceback": [
      "\u001b[1;31m---------------------------------------------------------------------------\u001b[0m",
      "\u001b[1;31mNameError\u001b[0m                                 Traceback (most recent call last)",
      "\u001b[1;32m<ipython-input-1-28fd8cf51fb9>\u001b[0m in \u001b[0;36m<module>\u001b[1;34m\u001b[0m\n\u001b[0;32m      1\u001b[0m \u001b[0mwindow_size\u001b[0m\u001b[1;33m=\u001b[0m\u001b[1;36m5\u001b[0m\u001b[1;33m\u001b[0m\u001b[1;33m\u001b[0m\u001b[0m\n\u001b[0;32m      2\u001b[0m \u001b[0mdiz\u001b[0m\u001b[1;33m=\u001b[0m\u001b[1;33m{\u001b[0m\u001b[1;34m'Motif'\u001b[0m\u001b[1;33m:\u001b[0m\u001b[1;33m[\u001b[0m\u001b[1;33m]\u001b[0m\u001b[1;33m,\u001b[0m\u001b[1;34m'Motif-Dist'\u001b[0m\u001b[1;33m:\u001b[0m\u001b[1;33m[\u001b[0m\u001b[1;33m]\u001b[0m\u001b[1;33m,\u001b[0m\u001b[1;34m'Discord'\u001b[0m\u001b[1;33m:\u001b[0m\u001b[1;33m[\u001b[0m\u001b[1;33m]\u001b[0m\u001b[1;33m}\u001b[0m\u001b[1;33m\u001b[0m\u001b[1;33m\u001b[0m\u001b[0m\n\u001b[1;32m----> 3\u001b[1;33m \u001b[0mPreProcessedTs\u001b[0m \u001b[1;33m=\u001b[0m \u001b[0mpd\u001b[0m\u001b[1;33m.\u001b[0m\u001b[0mDataFrame\u001b[0m\u001b[1;33m(\u001b[0m\u001b[0mdiz\u001b[0m\u001b[1;33m)\u001b[0m\u001b[1;33m\u001b[0m\u001b[1;33m\u001b[0m\u001b[0m\n\u001b[0m\u001b[0;32m      4\u001b[0m \u001b[1;33m\u001b[0m\u001b[0m\n\u001b[0;32m      5\u001b[0m \u001b[1;32mfor\u001b[0m \u001b[0mi\u001b[0m \u001b[1;32min\u001b[0m \u001b[0mrange\u001b[0m\u001b[1;33m(\u001b[0m\u001b[1;36m10\u001b[0m\u001b[1;33m)\u001b[0m\u001b[1;33m:\u001b[0m\u001b[1;33m\u001b[0m\u001b[1;33m\u001b[0m\u001b[0m\n",
      "\u001b[1;31mNameError\u001b[0m: name 'pd' is not defined"
     ]
    }
   ],
   "source": [
    "window_size=5\n",
    "diz={'Motif':[],'Motif-Dist':[],'Discord':[]}\n",
    "PreProcessedTs = pd.DataFrame(diz)\n",
    "\n",
    "for i in range(10):\n",
    "    Ts = np.array(df.iloc[i].values)\n",
    "    print('TS ID:' + str(i))\n",
    "    print('TS CLASS:' + str(Ts[128]))\n",
    "    mp,mot,motif_dist,dis = retrieve_all(Ts)\n",
    "   # print('MP'+str(mp))\n",
    "    print(\"Motifs\"+str(mot))\n",
    "    print(\"Motifs Dist\"+str(motif_dist))\n",
    "    print(\"Discords\"+str(dis))\n",
    "    plot_all(Ts,mp,mot,motif_dist,dis,window_size)\n",
    "    PreProcessedTs.loc[i]=mot,motif_dist,dis\n",
    "        \n",
    "print('Motif/Discord estratti')\n",
    "print(PreProcessedTs)"
   ]
  },
  {
   "cell_type": "code",
   "execution_count": null,
   "metadata": {},
   "outputs": [],
   "source": []
  },
  {
   "cell_type": "code",
   "execution_count": null,
   "metadata": {},
   "outputs": [],
   "source": []
  }
 ],
 "metadata": {
  "kernelspec": {
   "display_name": "Python 3",
   "language": "python",
   "name": "python3"
  },
  "language_info": {
   "codemirror_mode": {
    "name": "ipython",
    "version": 3
   },
   "file_extension": ".py",
   "mimetype": "text/x-python",
   "name": "python",
   "nbconvert_exporter": "python",
   "pygments_lexer": "ipython3",
   "version": "3.8.3"
  }
 },
 "nbformat": 4,
 "nbformat_minor": 4
}
