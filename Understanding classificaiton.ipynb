{
 "cells": [
  {
   "cell_type": "code",
   "execution_count": 14,
   "metadata": {},
   "outputs": [],
   "source": [
    "import pandas as pd\n",
    "import numpy as np\n",
    "from matrixprofile import *\n",
    "from matrixprofile.discords import discords\n",
    "from matplotlib import pyplot as plt\n",
    "from scipy.io import arff\n",
    "from sklearn.tree import DecisionTreeClassifier\n",
    "from sklearn.model_selection import train_test_split\n",
    "from sklearn import tree\n",
    "from sklearn.preprocessing import LabelEncoder\n",
    "from sklearn.metrics import confusion_matrix\n",
    "from sklearn.metrics import accuracy_score, f1_score, classification_report\n",
    "from sklearn.metrics import roc_curve, auc, roc_auc_score\n",
    "import pydotplus\n",
    "from IPython.display import Image\n",
    "from pandas.plotting import scatter_matrix"
   ]
  },
  {
   "cell_type": "code",
   "execution_count": 15,
   "metadata": {},
   "outputs": [
    {
     "data": {
      "text/plain": [
       "(30, 129)"
      ]
     },
     "execution_count": 15,
     "metadata": {},
     "output_type": "execute_result"
    }
   ],
   "source": [
    "dataset = arff.loadarff('CBF/CBF_TRAIN.arff')\n",
    "df = pd.DataFrame(dataset[0]) #30 record su matrice da 128 attributi + 'b': classe appartenenza  \n",
    "df.shape\n",
    "#df.info()\n"
   ]
  },
  {
   "cell_type": "code",
   "execution_count": 16,
   "metadata": {},
   "outputs": [],
   "source": [
    "#aggiusto e modifico i valori di target\n",
    "for i in range(30):\n",
    "    if (df.iloc[i, df.columns.get_loc('target')] == b'1'):\n",
    "        df.iloc[i, df.columns.get_loc('target')] = '1'\n",
    "        \n",
    "    if (df.iloc[i, df.columns.get_loc('target')] == b'2'):\n",
    "        df.iloc[i, df.columns.get_loc('target')] = '2'\n",
    "        \n",
    "    if (df.iloc[i, df.columns.get_loc('target')] == b'3'):\n",
    "        df.iloc[i, df.columns.get_loc('target')] = '3'\n",
    "    \n"
   ]
  },
  {
   "cell_type": "code",
   "execution_count": 17,
   "metadata": {},
   "outputs": [
    {
     "name": "stdout",
     "output_type": "stream",
     "text": [
      "1\n",
      "1\n",
      "1\n",
      "3\n",
      "2\n",
      "2\n",
      "1\n",
      "3\n",
      "2\n",
      "1\n",
      "2\n",
      "2\n",
      "1\n",
      "2\n",
      "2\n",
      "3\n",
      "2\n",
      "2\n",
      "1\n",
      "3\n",
      "2\n",
      "2\n",
      "1\n",
      "1\n",
      "3\n",
      "3\n",
      "2\n",
      "3\n",
      "3\n",
      "1\n"
     ]
    }
   ],
   "source": [
    "for i in range(30):\n",
    "    print(df.loc[i]['target'])"
   ]
  },
  {
   "cell_type": "code",
   "execution_count": 26,
   "metadata": {},
   "outputs": [
    {
     "name": "stdout",
     "output_type": "stream",
     "text": [
      "2    12\n",
      "1    10\n",
      "3     8\n",
      "Name: target, dtype: int64\n",
      "2    8\n",
      "1    7\n",
      "3    6\n",
      "Name: target, dtype: int64\n",
      "2    4\n",
      "1    3\n",
      "3    2\n",
      "Name: target, dtype: int64\n",
      "[[-0.46427649 -0.55504787 -0.8428431  ... -0.63870583 -0.96366425\n",
      "  -1.2451691 ]\n",
      " [-1.3148891  -1.3508606  -0.57481938 ... -1.5767386  -0.83416965\n",
      "  -0.75750669]\n",
      " [-0.92710486 -0.64851524 -0.17287512 ... -0.8728463   0.12931092\n",
      "  -0.14265778]\n",
      " ...\n",
      " [-1.1864222  -0.89319697 -0.97773692 ... -0.98159057 -1.2784443\n",
      "  -1.1078289 ]\n",
      " [-0.54187618 -1.016107   -1.0799024  ... -0.31455899 -1.1107676\n",
      "   0.10526572]\n",
      " [-1.4113675  -1.2082199  -0.68190674 ... -1.1610456  -0.96438276\n",
      "  -1.3161164 ]]\n",
      "0     1\n",
      "24    3\n",
      "19    3\n",
      "14    2\n",
      "21    2\n",
      "20    2\n",
      "2     1\n",
      "16    2\n",
      "28    3\n",
      "1     1\n",
      "22    1\n",
      "10    2\n",
      "27    3\n",
      "17    2\n",
      "15    3\n",
      "13    2\n",
      "12    1\n",
      "3     3\n",
      "9     1\n",
      "11    2\n",
      "18    1\n",
      "Name: target, dtype: object\n"
     ]
    }
   ],
   "source": [
    "attributes = [col for col in df.columns if col != 'target']\n",
    "#print(attributes)\n",
    "#DIVIDO TRAINING SET IN TRAINING E TEST SET\n",
    "X = df[attributes].values\n",
    "y = df['target']\n",
    "\n",
    "\n",
    "X_train, X_test, y_train, y_test = train_test_split(X, y, \n",
    "                                                    test_size=0.3, #rapporto pattern test/training\n",
    "                                                    random_state=100, #fissa quali pattern sono scelti per training e test\n",
    "                                                    stratify=y)\n",
    "#y_train, y_test\n",
    "print(df['target'].value_counts())\n",
    "print(y_train.value_counts()) #21 pattern training\n",
    "print(y_test.value_counts())  #9 pattern test\n",
    "print(X_train)\n",
    "print(y_train)\n",
    "\n"
   ]
  },
  {
   "cell_type": "code",
   "execution_count": 19,
   "metadata": {},
   "outputs": [
    {
     "name": "stdout",
     "output_type": "stream",
     "text": [
      "[0 0 0 2 1 1 0 2 1 0 1 1 0 1 1 2 1 1 0 2 1 1 0 0 2 2 1 2 2 0]\n",
      "(array([0, 1, 2]), array([10, 12,  8], dtype=int64))\n"
     ]
    }
   ],
   "source": [
    "le = LabelEncoder() #funzione per normalizzare le labels dei target class\n",
    "num_classes = le.fit_transform(df['target'])\n",
    "print(num_classes)\n",
    "num_classes2=np.unique(num_classes, return_counts=True) #rimuove tutti i duplicati nell'array\n",
    "print(num_classes2)"
   ]
  },
  {
   "cell_type": "code",
   "execution_count": 20,
   "metadata": {},
   "outputs": [
    {
     "data": {
      "image/png": "[encoded data removed]",
      "text/plain": [
       "<Figure size 432x288 with 1 Axes>"
      ]
     },
     "metadata": {
      "needs_background": "light"
     },
     "output_type": "display_data"
    }
   ],
   "source": [
    "plt.scatter(df['att37'], df['att45'],c=num_classes) #scatter mi permette di \"disegnare\" il piano in 2d, mettendo attributi, e avere graficamente classificazione lineare \n",
    "#i punti sono pattern, collocati in base al valore dei due attributi\n",
    "#plt.tick_params(axis='both', which='major', labelsize=22)\n",
    "plt.show()"
   ]
  },
  {
   "cell_type": "code",
   "execution_count": 21,
   "metadata": {},
   "outputs": [
    {
     "data": {
      "text/plain": [
       "DecisionTreeClassifier(criterion='entropy', random_state=13)"
      ]
     },
     "execution_count": 21,
     "metadata": {},
     "output_type": "execute_result"
    }
   ],
   "source": [
    "clf = DecisionTreeClassifier(criterion='entropy', max_depth=None, \n",
    "                             min_samples_split=2, min_samples_leaf=1, random_state=13) #fissando random state ho sempre lo stesso valore e non ho ranodmicità nello split\n",
    "clf.fit(X_train, y_train) #genera DTree allenato su tr set"
   ]
  },
  {
   "cell_type": "code",
   "execution_count": 22,
   "metadata": {},
   "outputs": [
    {
     "name": "stdout",
     "output_type": "stream",
     "text": [
      "['1' '2' '3']\n",
      "128\n"
     ]
    }
   ],
   "source": [
    "print(clf.classes_)\n",
    "print(clf.n_features_)"
   ]
  },
  {
   "cell_type": "code",
   "execution_count": 23,
   "metadata": {},
   "outputs": [
    {
     "name": "stdout",
     "output_type": "stream",
     "text": [
      "att1 0.0\n",
      "att2 0.0\n",
      "att3 0.0\n",
      "att4 0.0\n",
      "att5 0.0\n",
      "att6 0.0\n",
      "att7 0.0\n",
      "att8 0.0\n",
      "att9 0.0\n",
      "att10 0.0\n",
      "att11 0.0\n",
      "att12 0.0\n",
      "att13 0.0\n",
      "att14 0.0\n",
      "att15 0.0\n",
      "att16 0.0\n",
      "att17 0.0\n",
      "att18 0.0\n",
      "att19 0.0\n",
      "att20 0.0\n",
      "att21 0.0\n",
      "att22 0.0\n",
      "att23 0.0\n",
      "att24 0.0\n",
      "att25 0.0\n",
      "att26 0.0\n",
      "att27 0.0\n",
      "att28 0.0\n",
      "att29 0.0\n",
      "att30 0.0\n",
      "att31 0.0\n",
      "att32 0.0\n",
      "att33 0.0\n",
      "att34 0.0\n",
      "att35 0.0\n",
      "att36 0.0\n",
      "att37 0.3913383266175454\n",
      "att38 0.0\n",
      "att39 0.0\n",
      "att40 0.0\n",
      "att41 0.0\n",
      "att42 0.0\n",
      "att43 0.0\n",
      "att44 0.0\n",
      "att45 0.6086616733824546\n",
      "att46 0.0\n",
      "att47 0.0\n",
      "att48 0.0\n",
      "att49 0.0\n",
      "att50 0.0\n",
      "att51 0.0\n",
      "att52 0.0\n",
      "att53 0.0\n",
      "att54 0.0\n",
      "att55 0.0\n",
      "att56 0.0\n",
      "att57 0.0\n",
      "att58 0.0\n",
      "att59 0.0\n",
      "att60 0.0\n",
      "att61 0.0\n",
      "att62 0.0\n",
      "att63 0.0\n",
      "att64 0.0\n",
      "att65 0.0\n",
      "att66 0.0\n",
      "att67 0.0\n",
      "att68 0.0\n",
      "att69 0.0\n",
      "att70 0.0\n",
      "att71 0.0\n",
      "att72 0.0\n",
      "att73 0.0\n",
      "att74 0.0\n",
      "att75 0.0\n",
      "att76 0.0\n",
      "att77 0.0\n",
      "att78 0.0\n",
      "att79 0.0\n",
      "att80 0.0\n",
      "att81 0.0\n",
      "att82 0.0\n",
      "att83 0.0\n",
      "att84 0.0\n",
      "att85 0.0\n",
      "att86 0.0\n",
      "att87 0.0\n",
      "att88 0.0\n",
      "att89 0.0\n",
      "att90 0.0\n",
      "att91 0.0\n",
      "att92 0.0\n",
      "att93 0.0\n",
      "att94 0.0\n",
      "att95 0.0\n",
      "att96 0.0\n",
      "att97 0.0\n",
      "att98 0.0\n",
      "att99 0.0\n",
      "att100 0.0\n",
      "att101 0.0\n",
      "att102 0.0\n",
      "att103 0.0\n",
      "att104 0.0\n",
      "att105 0.0\n",
      "att106 0.0\n",
      "att107 0.0\n",
      "att108 0.0\n",
      "att109 0.0\n",
      "att110 0.0\n",
      "att111 0.0\n",
      "att112 0.0\n",
      "att113 0.0\n",
      "att114 0.0\n",
      "att115 0.0\n",
      "att116 0.0\n",
      "att117 0.0\n",
      "att118 0.0\n",
      "att119 0.0\n",
      "att120 0.0\n",
      "att121 0.0\n",
      "att122 0.0\n",
      "att123 0.0\n",
      "att124 0.0\n",
      "att125 0.0\n",
      "att126 0.0\n",
      "att127 0.0\n",
      "att128 0.0\n"
     ]
    }
   ],
   "source": [
    "for col, imp in zip(attributes, clf.feature_importances_):\n",
    "    print(col, imp)"
   ]
  },
  {
   "cell_type": "code",
   "execution_count": 24,
   "metadata": {},
   "outputs": [
    {
     "data": {
      "image/png": "[encoded data removed]",
      "text/plain": [
       "<IPython.core.display.Image object>"
      ]
     },
     "execution_count": 24,
     "metadata": {},
     "output_type": "execute_result"
    }
   ],
   "source": [
    "dot_data = tree.export_graphviz(clf, out_file=None,  \n",
    "                                feature_names=attributes, \n",
    "                                class_names=clf.classes_,  \n",
    "                                filled=True, rounded=True,  \n",
    "                                special_characters=True)  \n",
    "graph = pydotplus.graph_from_dot_data(dot_data)  \n",
    "Image(graph.create_png())\n",
    "#COSTRUITO IL DECISION TREE, TRAINATO SU TRAINING SET"
   ]
  },
  {
   "cell_type": "code",
   "execution_count": 32,
   "metadata": {},
   "outputs": [
    {
     "data": {
      "text/plain": [
       "[Text(133.92000000000002, 181.2, 'X[44] <= 0.5\\nentropy = 1.575\\nsamples = 21\\nvalue = [7, 8, 6]'),\n",
       " Text(66.96000000000001, 108.72, 'entropy = 0.0\\nsamples = 8\\nvalue = [0, 8, 0]'),\n",
       " Text(200.88000000000002, 108.72, 'X[36] <= 1.641\\nentropy = 0.996\\nsamples = 13\\nvalue = [7, 0, 6]'),\n",
       " Text(133.92000000000002, 36.23999999999998, 'entropy = 0.0\\nsamples = 7\\nvalue = [7, 0, 0]'),\n",
       " Text(267.84000000000003, 36.23999999999998, 'entropy = 0.0\\nsamples = 6\\nvalue = [0, 0, 6]')]"
      ]
     },
     "execution_count": 32,
     "metadata": {},
     "output_type": "execute_result"
    },
    {
     "data": {
      "image/png": "[encoded data removed]",
      "text/plain": [
       "<Figure size 432x288 with 1 Axes>"
      ]
     },
     "metadata": {
      "needs_background": "light"
     },
     "output_type": "display_data"
    }
   ],
   "source": [
    "tree.plot_tree(clf) "
   ]
  },
  {
   "cell_type": "code",
   "execution_count": 33,
   "metadata": {},
   "outputs": [
    {
     "name": "stdout",
     "output_type": "stream",
     "text": [
      "1 1\n",
      "3 3\n",
      "3 3\n",
      "2 2\n",
      "2 2\n",
      "2 2\n",
      "1 1\n",
      "2 2\n",
      "3 3\n",
      "1 1\n",
      "1 1\n",
      "2 2\n",
      "3 3\n",
      "2 2\n",
      "3 3\n",
      "2 2\n",
      "1 1\n",
      "3 3\n",
      "1 1\n",
      "2 2\n",
      "1 1\n",
      "              precision    recall  f1-score   support\n",
      "\n",
      "           1       1.00      1.00      1.00         7\n",
      "           2       1.00      1.00      1.00         8\n",
      "           3       1.00      1.00      1.00         6\n",
      "\n",
      "    accuracy                           1.00        21\n",
      "   macro avg       1.00      1.00      1.00        21\n",
      "weighted avg       1.00      1.00      1.00        21\n",
      "\n",
      "Accuracy 1.0\n",
      "F1-score [1. 1. 1.]\n"
     ]
    }
   ],
   "source": [
    "y_pred = clf.predict(X_train) #applico DT al training set e ovviamente va benissimo\n",
    "for y_p, y_tar in zip(y_pred, y_train):\n",
    "    print(y_p, y_tar)\n",
    "print(classification_report(y_train, y_pred))\n",
    "print('Accuracy %s' % accuracy_score(y_train, y_pred))\n",
    "print('F1-score %s' % f1_score(y_train, y_pred, average=None))"
   ]
  },
  {
   "cell_type": "code",
   "execution_count": 18,
   "metadata": {},
   "outputs": [
    {
     "name": "stdout",
     "output_type": "stream",
     "text": [
      "9\n",
      "1 1\n",
      "2 2\n",
      "2 2\n",
      "2 3\n",
      "2 1\n",
      "1 2\n",
      "2 2\n",
      "1 3\n",
      "1 1\n",
      "              precision    recall  f1-score   support\n",
      "\n",
      "           1       0.50      0.67      0.57         3\n",
      "           2       0.60      0.75      0.67         4\n",
      "           3       0.00      0.00      0.00         2\n",
      "\n",
      "    accuracy                           0.56         9\n",
      "   macro avg       0.37      0.47      0.41         9\n",
      "weighted avg       0.43      0.56      0.49         9\n",
      "\n",
      "Accuracy 0.5555555555555556\n",
      "F1-score [0.57142857 0.66666667 0.        ]\n"
     ]
    },
    {
     "name": "stderr",
     "output_type": "stream",
     "text": [
      "C:\\Users\\Allen\\softwaretesi1\\lib\\site-packages\\sklearn\\metrics\\_classification.py:1221: UndefinedMetricWarning: Precision and F-score are ill-defined and being set to 0.0 in labels with no predicted samples. Use `zero_division` parameter to control this behavior.\n",
      "  _warn_prf(average, modifier, msg_start, len(result))\n"
     ]
    },
    {
     "data": {
      "text/plain": [
       "array([[2, 1, 0],\n",
       "       [1, 3, 0],\n",
       "       [1, 1, 0]], dtype=int64)"
      ]
     },
     "execution_count": 18,
     "metadata": {},
     "output_type": "execute_result"
    }
   ],
   "source": [
    "y_predTest = clf.predict(X_test)\n",
    "print(len(y_predTest))\n",
    "for y_p, y_tar in zip(y_predTest, y_test):\n",
    "    print(y_p, y_tar)\n",
    "\n",
    "print(classification_report(y_test, y_predTest))\n",
    "print('Accuracy %s' % accuracy_score(y_test, y_predTest))\n",
    "print('F1-score %s' % f1_score(y_test, y_predTest, average=None))\n",
    "confusion_matrix(y_test, y_predTest)"
   ]
  },
  {
   "cell_type": "code",
   "execution_count": null,
   "metadata": {},
   "outputs": [],
   "source": []
  }
 ],
 "metadata": {
  "kernelspec": {
   "display_name": "Python 3",
   "language": "python",
   "name": "python3"
  },
  "language_info": {
   "codemirror_mode": {
    "name": "ipython",
    "version": 3
   },
   "file_extension": ".py",
   "mimetype": "text/x-python",
   "name": "python",
   "nbconvert_exporter": "python",
   "pygments_lexer": "ipython3",
   "version": "3.8.3"
  }
 },
 "nbformat": 4,
 "nbformat_minor": 4
}
